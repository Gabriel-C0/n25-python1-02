{
 "cells": [
  {
   "cell_type": "markdown",
   "metadata": {},
   "source": [
    "# Loops\n",
    "### Laço while\n"
   ]
  },
  {
   "cell_type": "code",
   "execution_count": null,
   "metadata": {},
   "outputs": [],
   "source": [
    "# Exemplo de laço infinito...\n",
    "while True:   # condição se verdade permanece no laço\n",
    "    print(\"Teste...\")\n",
    "    break"
   ]
  },
  {
   "cell_type": "markdown",
   "metadata": {},
   "source": [
    "# Exemplo para testar maior valor\n",
    "# Usuário vai digitar os valores até o valor ser -1\n",
    "maior = -999_999_999_999\n",
    "valor = int(input(\"Digite um valor (-1 = fim): \"))\n",
    "while valor != -1:\n",
    "    if valor>maior:\n",
    "        maior = valor\n",
    "    valor = int(input(\"Digite um valor (-1 = fim): \"))\n",
    "if maior > -999_999_999_999:\n",
    "    print(\"O maior valor digitado foi\", maior)\n",
    "else:\n",
    "    print(\"Não houve digitação de valores!\")"
   ]
  },
  {
   "cell_type": "markdown",
   "metadata": {},
   "source": [
    "# Solicitar ao usuário a digitação de valor, se -1 encerrar\n",
    "# Contar quantos pares e qantos impares foram digitados\n",
    "par, impar = 0, 0\n",
    "num = int(input(\"Digite um número (-1 = fim): \"))\n",
    "while num != -1:\n",
    "    if num % 2 == 0: # par = par + 1\n",
    "        par += 1  # impar = impar + 1\n",
    "    else:\n",
    "        impar += 1  # impar = impar + 1\n",
    "    num = int(input(\"Digite um número (-1 = fim): \"))\n",
    "print(\"Pares:\",par,\"Impares:\",impar)"
   ]
  },
  {
   "cell_type": "code",
   "execution_count": null,
   "metadata": {},
   "outputs": [],
   "source": [
    "contador = 0\n",
    "while contador < 10:\n",
    "    print(contador)\n",
    "    contador += 1\n",
    "print(\"Fim do programa\")"
   ]
  },
  {
   "cell_type": "markdown",
   "metadata": {},
   "source": [
    "### laço for\n"
   ]
  },
  {
   "cell_type": "code",
   "execution_count": null,
   "metadata": {},
   "outputs": [],
   "source": [
    "for contador in range(10):\n",
    "    print(contador)\n",
    "print(\"Fim do programa\")"
   ]
  },
  {
   "cell_type": "markdown",
   "metadata": {},
   "source": [
    "### Range com 2 parâmetros (inicio, fim)"
   ]
  },
  {
   "cell_type": "code",
   "execution_count": null,
   "metadata": {},
   "outputs": [],
   "source": [
    "for contador in range(1,5):\n",
    "    print(contador)\n",
    "print(\"Fim do programa\")"
   ]
  },
  {
   "cell_type": "markdown",
   "metadata": {},
   "source": [
    "### range com 3 parâmetros (inicio, fim, passo)"
   ]
  },
  {
   "cell_type": "code",
   "execution_count": null,
   "metadata": {},
   "outputs": [],
   "source": [
    "for contador in range(1, 10, 3):\n",
    "    print(contador)\n",
    "print(\"Fim do programa!\")"
   ]
  },
  {
   "cell_type": "code",
   "execution_count": null,
   "metadata": {},
   "outputs": [],
   "source": [
    "# For interessante\n",
    "contador = 9\n",
    "for contador in range(1,1):\n",
    "    print(contador)\n",
    "print(\"Fim do programa\", contador)"
   ]
  },
  {
   "cell_type": "code",
   "execution_count": 3,
   "metadata": {},
   "outputs": [
    {
     "name": "stdout",
     "output_type": "stream",
     "text": [
      "10\n",
      "9\n",
      "8\n",
      "7\n",
      "6\n",
      "5\n",
      "4\n",
      "3\n",
      "2\n",
      "1\n",
      "Fim do programa\n"
     ]
    }
   ],
   "source": [
    "# desafio\n",
    "for contador in range(10,0,-1): # Imprimir do 10 ao 1\n",
    "    print(contador)\n",
    "print(\"Fim do programa\")"
   ]
  },
  {
   "cell_type": "markdown",
   "metadata": {},
   "source": [
    "# 3.2.7   LAB   Essenciais do loop for – contando mississippy\n",
    "Cenário\n",
    "Você sabe o que é o Mississipi? Bem, é o nome de um dos estados e riachos dos Estados Unidos. O Rio Mississipi tem cerca de 2.340 milhas de comprimento, o que o torna o segundo maior rio dos Estados Unidos (o mais longo é o Rio Missouri). É tão longo que uma única gota de água precisa de 90 dias para percorrer todo o seu comprimento!\n",
    "\n",
    "A palavra Mississipi também é usada para uma finalidade ligeiramente diferente: contar com erros de sorte.\n",
    "\n",
    "Se você não está familiarizado com a frase, estamos aqui para explicar o que ela significa: ela é usada para contar segundos.\n",
    "\n",
    "A ideia por trás disso é que adicionar a palavra Mississipi a um número ao contar segundos em voz alta faz com que soem mais perto do relógio e, portanto, \"um Mississipi, dois Mississipi, três Mississipi\" levará aproximadamente três segundos reais! É frequentemente usado por crianças que brincam de esconde-esconde para garantir que o candidato faça uma contagem honesta.\n",
    "\n",
    "Sua tarefa é muito simples aqui: escreva um programa que use um loop for para \"contar de forma incorreta\" para cinco. Depois de contar até cinco, o programa deve imprimir na tela a mensagem final \"Pronto ou não, aqui vou eu!\""
   ]
  },
  {
   "cell_type": "code",
   "execution_count": null,
   "metadata": {},
   "outputs": [],
   "source": [
    "import time\n",
    "\n",
    "# Escreva um loop for que conte até cinco\n",
    "   # Corpo do loop - exiba o número de iteração do loop e a palavra \"Mississippi\".\n",
    "   # Corpo do loop - use: time.sleep(1)\n",
    "\n",
    "# Escreva uma função print com a mensagem final.\n",
    "for i in range(1,6):\n",
    "    print(i, \"Mississippi\")\n",
    "    time.sleep(1)\n",
    "print(\"Pronto ou não, aqui vou eu!!\")"
   ]
  },
  {
   "cell_type": "markdown",
   "metadata": {},
   "source": [
    "### Instrução break e continue"
   ]
  },
  {
   "cell_type": "code",
   "execution_count": 4,
   "metadata": {},
   "outputs": [
    {
     "name": "stdout",
     "output_type": "stream",
     "text": [
      "0\n",
      "1\n",
      "2\n",
      "Fim de programa\n"
     ]
    }
   ],
   "source": [
    "contador = 0\n",
    "while contador < 10:\n",
    "    print(contador)\n",
    "    contador += 1\n",
    "    if contador == 3:\n",
    "        break\n",
    "print(\"Fim de programa\")"
   ]
  },
  {
   "cell_type": "code",
   "execution_count": 5,
   "metadata": {},
   "outputs": [
    {
     "name": "stdout",
     "output_type": "stream",
     "text": [
      "1\n",
      "2\n",
      "4\n",
      "5\n",
      "6\n",
      "7\n",
      "8\n",
      "9\n",
      "10\n",
      "Fim do programa\n"
     ]
    }
   ],
   "source": [
    "contador = 0\n",
    "while contador < 10:\n",
    "    contador +=1\n",
    "    if contador == 3:\n",
    "        continue\n",
    "    print(contador)\n",
    "print(\"Fim do programa\")\n"
   ]
  },
  {
   "cell_type": "code",
   "execution_count": 6,
   "metadata": {},
   "outputs": [
    {
     "name": "stdout",
     "output_type": "stream",
     "text": [
      "o-t-o-r-r-i-n-o-l-a-r-i-n-g-o-l-o-g-i-s-t-a-\n",
      "Fim do programa\n"
     ]
    },
    {
     "ename": "NameError",
     "evalue": "name 'pal_inv' is not defined",
     "output_type": "error",
     "traceback": [
      "\u001b[31m---------------------------------------------------------------------------\u001b[39m",
      "\u001b[31mNameError\u001b[39m                                 Traceback (most recent call last)",
      "\u001b[36mCell\u001b[39m\u001b[36m \u001b[39m\u001b[32mIn[6]\u001b[39m\u001b[32m, line 9\u001b[39m\n\u001b[32m      7\u001b[39m pal_iv = \u001b[33m\"\u001b[39m\u001b[33m\"\u001b[39m\n\u001b[32m      8\u001b[39m \u001b[38;5;28;01mfor\u001b[39;00m letra \u001b[38;5;129;01min\u001b[39;00m palavra:\n\u001b[32m----> \u001b[39m\u001b[32m9\u001b[39m     pal_iv = letra + \u001b[43mpal_inv\u001b[49m\n\u001b[32m     10\u001b[39m \u001b[38;5;28mprint\u001b[39m(pal_inv)\n",
      "\u001b[31mNameError\u001b[39m: name 'pal_inv' is not defined"
     ]
    }
   ],
   "source": [
    "# Exemplo interessante do for\n",
    "palavra = \"otorrinolaringologista\"\n",
    "for letra in palavra:\n",
    "    print(letra,end=\"-\")\n",
    "print(\"\\nFim do programa\")\n",
    "# invertendo a palavra\n",
    "pal_iv = \"\"\n",
    "for letra in palavra:\n",
    "    pal_iv = letra + pal_inv\n",
    "print(pal_inv)"
   ]
  }
 ],
 "metadata": {
  "kernelspec": {
   "display_name": ".venv",
   "language": "python",
   "name": "python3"
  },
  "language_info": {
   "codemirror_mode": {
    "name": "ipython",
    "version": 3
   },
   "file_extension": ".py",
   "mimetype": "text/x-python",
   "name": "python",
   "nbconvert_exporter": "python",
   "pygments_lexer": "ipython3",
   "version": "3.13.2"
  }
 },
 "nbformat": 4,
 "nbformat_minor": 2
}
