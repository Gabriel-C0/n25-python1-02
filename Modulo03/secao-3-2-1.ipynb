{
 "cells": [
  {
   "cell_type": "markdown",
   "metadata": {},
   "source": [
    "# Loops\n",
    "### Laço while\n"
   ]
  },
  {
   "cell_type": "code",
   "execution_count": null,
   "metadata": {},
   "outputs": [],
   "source": [
    "# Exemplo de laço infinito...\n",
    "while True:   # condição se verdade permanece no laço\n",
    "    print(\"Teste...\")\n",
    "    break"
   ]
  },
  {
   "cell_type": "markdown",
   "metadata": {},
   "source": [
    "# Exemplo para testar maior valor\n",
    "# Usuário vai digitar os valores até o valor ser -1\n",
    "maior = -999_999_999_999\n",
    "valor = int(input(\"Digite um valor (-1 = fim): \"))\n",
    "while valor != -1:\n",
    "    if valor>maior:\n",
    "        maior = valor\n",
    "    valor = int(input(\"Digite um valor (-1 = fim): \"))\n",
    "if maior > -999_999_999_999:\n",
    "    print(\"O maior valor digitado foi\", maior)\n",
    "else:\n",
    "    print(\"Não houve digitação de valores!\")"
   ]
  },
  {
   "cell_type": "markdown",
   "metadata": {},
   "source": [
    "# Solicitar ao usuário a digitação de valor, se -1 encerrar\n",
    "# Contar quantos pares e qantos impares foram digitados\n",
    "par, impar = 0, 0\n",
    "num = int(input(\"Digite um número (-1 = fim): \"))\n",
    "while num != -1:\n",
    "    if num % 2 == 0: # par = par + 1\n",
    "        par += 1  # impar = impar + 1\n",
    "    else:\n",
    "        impar += 1  # impar = impar + 1\n",
    "    num = int(input(\"Digite um número (-1 = fim): \"))\n",
    "print(\"Pares:\",par,\"Impares:\",impar)"
   ]
  },
  {
   "cell_type": "code",
   "execution_count": null,
   "metadata": {},
   "outputs": [],
   "source": [
    "contador = 0\n",
    "while contador < 10:\n",
    "    print(contador)\n",
    "    contador += 1\n",
    "print(\"Fim do programa\")"
   ]
  },
  {
   "cell_type": "markdown",
   "metadata": {},
   "source": [
    "### laço for\n"
   ]
  },
  {
   "cell_type": "code",
   "execution_count": null,
   "metadata": {},
   "outputs": [],
   "source": [
    "for contador in range(10):\n",
    "    print(contador)\n",
    "print(\"Fim do programa\")"
   ]
  },
  {
   "cell_type": "markdown",
   "metadata": {},
   "source": [
    "### Range com 2 parâmetros (inicio, fim)"
   ]
  },
  {
   "cell_type": "code",
   "execution_count": null,
   "metadata": {},
   "outputs": [],
   "source": [
    "for contador in range(1,5):\n",
    "    print(contador)\n",
    "print(\"Fim do programa\")"
   ]
  },
  {
   "cell_type": "markdown",
   "metadata": {},
   "source": [
    "### range com 3 parâmetros (inicio, fim, passo)"
   ]
  },
  {
   "cell_type": "code",
   "execution_count": null,
   "metadata": {},
   "outputs": [],
   "source": [
    "for contador in range(1, 10, 3):\n",
    "    print(contador)\n",
    "print(\"Fim do programa!\")"
   ]
  },
  {
   "cell_type": "code",
   "execution_count": null,
   "metadata": {},
   "outputs": [],
   "source": [
    "# For interessante\n",
    "contador = 9\n",
    "for contador in range(1,1):\n",
    "    print(contador)\n",
    "print(\"Fim do programa\", contador)"
   ]
  },
  {
   "cell_type": "code",
   "execution_count": 3,
   "metadata": {},
   "outputs": [
    {
     "name": "stdout",
     "output_type": "stream",
     "text": [
      "10\n",
      "9\n",
      "8\n",
      "7\n",
      "6\n",
      "5\n",
      "4\n",
      "3\n",
      "2\n",
      "1\n",
      "Fim do programa\n"
     ]
    }
   ],
   "source": [
    "# desafio\n",
    "for contador in range(10,0,-1): # Imprimir do 10 ao 1\n",
    "    print(contador)\n",
    "print(\"Fim do programa\")"
   ]
  },
  {
   "cell_type": "markdown",
   "metadata": {},
   "source": [
    "# 3.2.7   LAB   Essenciais do loop for – contando mississippy\n",
    "Cenário\n",
    "Você sabe o que é o Mississipi? Bem, é o nome de um dos estados e riachos dos Estados Unidos. O Rio Mississipi tem cerca de 2.340 milhas de comprimento, o que o torna o segundo maior rio dos Estados Unidos (o mais longo é o Rio Missouri). É tão longo que uma única gota de água precisa de 90 dias para percorrer todo o seu comprimento!\n",
    "\n",
    "A palavra Mississipi também é usada para uma finalidade ligeiramente diferente: contar com erros de sorte.\n",
    "\n",
    "Se você não está familiarizado com a frase, estamos aqui para explicar o que ela significa: ela é usada para contar segundos.\n",
    "\n",
    "A ideia por trás disso é que adicionar a palavra Mississipi a um número ao contar segundos em voz alta faz com que soem mais perto do relógio e, portanto, \"um Mississipi, dois Mississipi, três Mississipi\" levará aproximadamente três segundos reais! É frequentemente usado por crianças que brincam de esconde-esconde para garantir que o candidato faça uma contagem honesta.\n",
    "\n",
    "Sua tarefa é muito simples aqui: escreva um programa que use um loop for para \"contar de forma incorreta\" para cinco. Depois de contar até cinco, o programa deve imprimir na tela a mensagem final \"Pronto ou não, aqui vou eu!\""
   ]
  },
  {
   "cell_type": "code",
   "execution_count": null,
   "metadata": {},
   "outputs": [],
   "source": [
    "import time\n",
    "\n",
    "# Escreva um loop for que conte até cinco\n",
    "   # Corpo do loop - exiba o número de iteração do loop e a palavra \"Mississippi\".\n",
    "   # Corpo do loop - use: time.sleep(1)\n",
    "\n",
    "# Escreva uma função print com a mensagem final.\n",
    "for i in range(1,6):\n",
    "    print(i, \"Mississippi\")\n",
    "    time.sleep(1)\n",
    "print(\"Pronto ou não, aqui vou eu!!\")"
   ]
  },
  {
   "cell_type": "markdown",
   "metadata": {},
   "source": [
    "### Instrução break e continue"
   ]
  },
  {
   "cell_type": "code",
   "execution_count": 4,
   "metadata": {},
   "outputs": [
    {
     "name": "stdout",
     "output_type": "stream",
     "text": [
      "0\n",
      "1\n",
      "2\n",
      "Fim de programa\n"
     ]
    }
   ],
   "source": [
    "contador = 0\n",
    "while contador < 10:\n",
    "    print(contador)\n",
    "    contador += 1\n",
    "    if contador == 3:\n",
    "        break\n",
    "print(\"Fim de programa\")"
   ]
  },
  {
   "cell_type": "code",
   "execution_count": 5,
   "metadata": {},
   "outputs": [
    {
     "name": "stdout",
     "output_type": "stream",
     "text": [
      "1\n",
      "2\n",
      "4\n",
      "5\n",
      "6\n",
      "7\n",
      "8\n",
      "9\n",
      "10\n",
      "Fim do programa\n"
     ]
    }
   ],
   "source": [
    "contador = 0\n",
    "while contador < 10:\n",
    "    contador +=1\n",
    "    if contador == 3:\n",
    "        continue\n",
    "    print(contador)\n",
    "print(\"Fim do programa\")\n"
   ]
  },
  {
   "cell_type": "code",
   "execution_count": null,
   "metadata": {},
   "outputs": [
    {
     "name": "stdout",
     "output_type": "stream",
     "text": [
      "o-t-o-r-r-i-n-o-l-a-r-i-n-g-o-l-o-g-i-s-t-a-\n",
      "Fim do programa\n"
     ]
    },
    {
     "ename": "NameError",
     "evalue": "name 'pal_inv' is not defined",
     "output_type": "error",
     "traceback": [
      "\u001b[31m---------------------------------------------------------------------------\u001b[39m",
      "\u001b[31mNameError\u001b[39m                                 Traceback (most recent call last)",
      "\u001b[36mCell\u001b[39m\u001b[36m \u001b[39m\u001b[32mIn[6]\u001b[39m\u001b[32m, line 9\u001b[39m\n\u001b[32m      7\u001b[39m pal_iv = \u001b[33m\"\u001b[39m\u001b[33m\"\u001b[39m\n\u001b[32m      8\u001b[39m \u001b[38;5;28;01mfor\u001b[39;00m letra \u001b[38;5;129;01min\u001b[39;00m palavra:\n\u001b[32m----> \u001b[39m\u001b[32m9\u001b[39m     pal_iv = letra + \u001b[43mpal_inv\u001b[49m\n\u001b[32m     10\u001b[39m \u001b[38;5;28mprint\u001b[39m(pal_inv)\n",
      "\u001b[31mNameError\u001b[39m: name 'pal_inv' is not defined"
     ]
    }
   ],
   "source": [
    "# Exemplo interessante do for\n",
    "palavra = \"otorrinolaringologista\"\n",
    "for letra in palavra:\n",
    "    print(letra,end=\"-\")\n",
    "print(\"\\nFim do programa\")\n",
    "# invertendo a palavra\n",
    "pal_iv = \"\"\n",
    "for letra in palavra:\n",
    "    pal_iv = letra + pal_iv\n",
    "print(pal_iv)"
   ]
  },
  {
   "cell_type": "markdown",
   "metadata": {},
   "source": [
    "### Ramo else para While - 3-2-12"
   ]
  },
  {
   "cell_type": "code",
   "execution_count": null,
   "metadata": {},
   "outputs": [],
   "source": [
    "i = 1\n",
    "while i < 5:\n",
    "    if i == 3:\n",
    "        break\n",
    "    print(i)\n",
    "    i += 1\n",
    "else:\n",
    "    print(\"else:\", i)\n"
   ]
  },
  {
   "cell_type": "markdown",
   "metadata": {},
   "source": [
    "### Ramo else para for - 3-2-12"
   ]
  },
  {
   "cell_type": "code",
   "execution_count": 2,
   "metadata": {},
   "outputs": [
    {
     "name": "stdout",
     "output_type": "stream",
     "text": [
      "1\n",
      "2\n"
     ]
    }
   ],
   "source": [
    "# del i\n",
    "for i in range(1,5):\n",
    "    if i ==3: break # pode ser 1 linha desde que 1 instrução\n",
    "    print(i)\n",
    "else:\n",
    "    print(\"else:\", i) # Só não passa se tiver break no laço"
   ]
  },
  {
   "cell_type": "markdown",
   "metadata": {},
   "source": [
    "### Lab 3-2-14\n"
   ]
  },
  {
   "cell_type": "code",
   "execution_count": 4,
   "metadata": {},
   "outputs": [
    {
     "name": "stdout",
     "output_type": "stream",
     "text": [
      "A altura da pirâmide: 34\n"
     ]
    }
   ],
   "source": [
    "blocks = int(input(\"Insira o número de blocos:\"))  \n",
    " # Escreva seu código aqui.\n",
    "altura = 0\n",
    "total_blocos = 0\n",
    "while total_blocos + altura + 1 < blocks:\n",
    "    altura +=1\n",
    "    total_blocos += altura\n",
    "\n",
    "\n",
    "#\n",
    "\n",
    "print(\"A altura da pirâmide:\", altura)\n"
   ]
  },
  {
   "cell_type": "markdown",
   "metadata": {},
   "source": [
    "####\n",
    "Fazer um programa que solicite um número e retorne a raiz aproximada do número.\n",
    "Você deve usar laço for, if e break"
   ]
  },
  {
   "cell_type": "code",
   "execution_count": 5,
   "metadata": {},
   "outputs": [
    {
     "name": "stdout",
     "output_type": "stream",
     "text": [
      "raiz aproximada é: 4\n"
     ]
    }
   ],
   "source": [
    "num = int(input(\"Digite o valor: \"))\n",
    "raiz = 0\n",
    "for i in range(num):\n",
    "    # seu codigo aqui\n",
    "     raiz = i \n",
    "     if (raiz + 1) * (raiz + 1) > num:\n",
    "          break;\n",
    "print(\"raiz aproximada é:\", raiz)"
   ]
  },
  {
   "cell_type": "code",
   "execution_count": 15,
   "metadata": {},
   "outputs": [
    {
     "ename": "IndexError",
     "evalue": "string index out of range",
     "output_type": "error",
     "traceback": [
      "\u001b[31m---------------------------------------------------------------------------\u001b[39m",
      "\u001b[31mIndexError\u001b[39m                                Traceback (most recent call last)",
      "\u001b[36mCell\u001b[39m\u001b[36m \u001b[39m\u001b[32mIn[15]\u001b[39m\u001b[32m, line 13\u001b[39m\n\u001b[32m     11\u001b[39m soma = \u001b[32m0\u001b[39m \n\u001b[32m     12\u001b[39m \u001b[38;5;28;01mfor\u001b[39;00m i \u001b[38;5;129;01min\u001b[39;00m \u001b[38;5;28mrange\u001b[39m(\u001b[32m10\u001b[39m):\n\u001b[32m---> \u001b[39m\u001b[32m13\u001b[39m     soma += \u001b[38;5;28mint\u001b[39m(\u001b[43mcpf\u001b[49m\u001b[43m[\u001b[49m\u001b[43mi\u001b[49m\u001b[43m]\u001b[49m) * (\u001b[32m11\u001b[39m - i)\n\u001b[32m     14\u001b[39m dg2 =  soma * \u001b[32m10\u001b[39m % \u001b[32m11\u001b[39m\n\u001b[32m     15\u001b[39m \u001b[38;5;28;01mif\u001b[39;00m dg2 > \u001b[32m9\u001b[39m: dg2 = \u001b[32m0\u001b[39m\n",
      "\u001b[31mIndexError\u001b[39m: string index out of range"
     ]
    }
   ],
   "source": [
    "# Teste CPF\n",
    "cpf = input(\"Digite o cpf (somente número, 11 dígitos): \")\n",
    "cpf_sem_dg = \"\"\n",
    "soma=0\n",
    "for i in range(9):\n",
    "    soma += int(cpf[i]) * (10 - i)\n",
    "    cpf_sem_dg += cpf[i]\n",
    "# calculo 1° digito\n",
    "dg1 =  soma * 10 % 11\n",
    "if dg1 > 9: dg1 = 0\n",
    "soma = 0 \n",
    "for i in range(10):\n",
    "    soma += int(cpf[i]) * (11 - i)\n",
    "dg2 =  soma * 10 % 11\n",
    "if dg2 > 9: dg2 = 0\n",
    "#Montando cpf calculado\n",
    "cpf_sem_dg += str(dg1) + str(dg2)\n",
    "if cpf != cpf_sem_dg:\n",
    "    print(\"Cpf inválido!\", cpf, cpf_sem_dg)\n",
    "else:\n",
    "    print(\"Cpf inválido\", cpf, cpf_sem_dg)"
   ]
  }
 ],
 "metadata": {
  "kernelspec": {
   "display_name": ".venv",
   "language": "python",
   "name": "python3"
  },
  "language_info": {
   "codemirror_mode": {
    "name": "ipython",
    "version": 3
   },
   "file_extension": ".py",
   "mimetype": "text/x-python",
   "name": "python",
   "nbconvert_exporter": "python",
   "pygments_lexer": "ipython3",
   "version": "3.13.2"
  }
 },
 "nbformat": 4,
 "nbformat_minor": 2
}
