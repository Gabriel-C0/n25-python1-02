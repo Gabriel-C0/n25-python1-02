{
 "cells": [
  {
   "cell_type": "markdown",
   "metadata": {},
   "source": [
    "# Tomada de decisão\n",
    "## Operações relacionais\n",
    "### Operador de igualdade ( == )"
   ]
  },
  {
   "cell_type": "code",
   "execution_count": 9,
   "metadata": {},
   "outputs": [
    {
     "name": "stdout",
     "output_type": "stream",
     "text": [
      "False\n",
      "True\n",
      "True\n",
      "True\n"
     ]
    }
   ],
   "source": [
    "print( 1 == 2)\n",
    "print( 1 == 1)\n",
    "print( 1 == 1.0)\n",
    "print( 2 == 0b10) # binary 2"
   ]
  },
  {
   "cell_type": "markdown",
   "metadata": {},
   "source": [
    "### Operador de desigualdade ( !=)"
   ]
  },
  {
   "cell_type": "code",
   "execution_count": 10,
   "metadata": {},
   "outputs": [
    {
     "name": "stdout",
     "output_type": "stream",
     "text": [
      "True\n",
      "False\n",
      "False\n",
      "False\n"
     ]
    }
   ],
   "source": [
    "print( 1 != 2)\n",
    "print( 1 != 1)\n",
    "print( 1 != 1.0)\n",
    "print( 2 != 0b10) # binary 2"
   ]
  },
  {
   "cell_type": "markdown",
   "metadata": {},
   "source": [
    "### Operador maior que (>) e maior igual a ( >=) "
   ]
  },
  {
   "cell_type": "code",
   "execution_count": 11,
   "metadata": {},
   "outputs": [
    {
     "name": "stdout",
     "output_type": "stream",
     "text": [
      "False\n",
      "True\n",
      "True\n",
      "True\n"
     ]
    }
   ],
   "source": [
    "print( 1 > 2)\n",
    "print( 2 > 1)\n",
    "print( 2 >= 1)\n",
    "print( 2 >= 0b10) # binary 2"
   ]
  },
  {
   "cell_type": "markdown",
   "metadata": {},
   "source": [
    "### Operador menor que (<) e menor igual a (<=)"
   ]
  },
  {
   "cell_type": "code",
   "execution_count": 12,
   "metadata": {},
   "outputs": [
    {
     "name": "stdout",
     "output_type": "stream",
     "text": [
      "True\n",
      "False\n",
      "False\n",
      "True\n"
     ]
    }
   ],
   "source": [
    "print( 1 < 2)\n",
    "print( 2 < 1)\n",
    "print( 2 <= 1)\n",
    "print( 2 <= 0b10) # binary 2"
   ]
  },
  {
   "cell_type": "markdown",
   "metadata": {},
   "source": [
    "### Atualizando a lista de prioridades de operadores\n",
    "| Seq | Operador | Descrição | \n",
    "| - | - | - |\n",
    "| 1 | ** | Exponenciação |\n",
    "| 2 | +,- | Unários Sinal |\n",
    "| 3 | *,/,//,%+| Multiplicação, divisões e resto |\n",
    "| 4 | +,- | Soma e subtração |\n",
    "| 5 | >, >=, <, <= | Maior, maior igual, menor, menor igual |\n",
    "| 6 | ==, != | Igualdade e diferença | "
   ]
  },
  {
   "cell_type": "markdown",
   "metadata": {},
   "source": [
    "### Operador if ( Se )\n",
    "sintaxe:\n",
    "if condicao_ verdade: \n",
    "    comando_a_ser_executado1()\n",
    "    comando_a_ser_executado2()\n",
    "   if comando2:\n",
    "    comando_03()"
   ]
  },
  {
   "cell_type": "code",
   "execution_count": 13,
   "metadata": {},
   "outputs": [
    {
     "name": "stdout",
     "output_type": "stream",
     "text": [
      "Você é maior de idade\n",
      "Você pode dirigir, ser habilitado!\n",
      "fim do programa\n"
     ]
    }
   ],
   "source": [
    "idade = int(input(\"Digite sua idade: \"))\n",
    "if idade >= 18:\n",
    "   print(\"Você é maior de idade\")\n",
    "   print(\"Você pode dirigir, ser habilitado!\")\n",
    "print(\"fim do programa\")\n"
   ]
  },
  {
   "cell_type": "code",
   "execution_count": 14,
   "metadata": {},
   "outputs": [
    {
     "name": "stdout",
     "output_type": "stream",
     "text": [
      "Você é maior de idade\n",
      "Você pode dirigir, ser habilitado!\n",
      "fim do programa\n"
     ]
    }
   ],
   "source": [
    "### Instrução else\n",
    "idade = int(input(\"Digite sua idade: \"))\n",
    "if idade >= 18:\n",
    "   print(\"Você é maior de idade\")\n",
    "   print(\"Você pode dirigir, ser habilitado!\")\n",
    "else:\n",
    "    print(\"Você é menor de idade\")\n",
    "    print(\"Você não pode dirigir\")\n",
    "print(\"fim do programa\")"
   ]
  },
  {
   "cell_type": "markdown",
   "metadata": {},
   "source": [
    "### If encadeado"
   ]
  },
  {
   "cell_type": "code",
   "execution_count": 18,
   "metadata": {},
   "outputs": [
    {
     "name": "stdout",
     "output_type": "stream",
     "text": [
      "Você é maior de idade\n",
      "Você pode dirigir, ser habilitado!\n",
      "fim do programa\n"
     ]
    }
   ],
   "source": [
    "\n",
    "idade = int(input(\"Digite sua idade: \"))\n",
    "if idade >= 18:\n",
    "   print(\"Você é maior de idade\")\n",
    "   print(\"Você pode dirigir, ser habilitado!\")\n",
    "   if idade >= 70:\n",
    "      print(\"Você deve fazer exames médicos anuais\")\n",
    "   else:\n",
    "      if idade >= 65:\n",
    "         print(\"Você deve fazer exames médicos a cada 2 anos\")\n",
    "else:\n",
    "   print(\"Você é menor de idade\")\n",
    "   print(\"Você não pode dirgir, ser habilitado\")\n",
    "print(\"fim do programa\")"
   ]
  },
  {
   "cell_type": "code",
   "execution_count": null,
   "metadata": {},
   "outputs": [],
   "source": []
  },
  {
   "cell_type": "markdown",
   "metadata": {},
   "source": [
    "## Instrução elif"
   ]
  },
  {
   "cell_type": "code",
   "execution_count": 20,
   "metadata": {},
   "outputs": [
    {
     "name": "stdout",
     "output_type": "stream",
     "text": [
      "Você é maior de idade\n",
      "Você pode dirigir, ser habilitado!\n"
     ]
    }
   ],
   "source": [
    "idade = int(input(\"Digite sua idade: \"))\n",
    "if idade >= 70:\n",
    "   print(\"Você é maior de idade\")\n",
    "   print(\"Você pode dirigir, ser habilitado!\")\n",
    "   print(\"Você deve fazer exames médicos anuais\") \n",
    "elif idade >= 65:\n",
    "     print(\"Você é maior de idade\")\n",
    "     print(\"Você pode dirigir, ser habilitado!\")\n",
    "     print(\"Você deve fazer exames médicos a cada 2 anos\")\n",
    "elif idade >= 18:\n",
    "     print(\"Você é maior de idade\")\n",
    "     print(\"Você pode dirigir, ser habilitado!\")"
   ]
  },
  {
   "cell_type": "code",
   "execution_count": 26,
   "metadata": {},
   "outputs": [
    {
     "ename": "NameError",
     "evalue": "name 'num3' is not defined",
     "output_type": "error",
     "traceback": [
      "\u001b[31m---------------------------------------------------------------------------\u001b[39m",
      "\u001b[31mNameError\u001b[39m                                 Traceback (most recent call last)",
      "\u001b[36mCell\u001b[39m\u001b[36m \u001b[39m\u001b[32mIn[26]\u001b[39m\u001b[32m, line 8\u001b[39m\n\u001b[32m      6\u001b[39m \u001b[38;5;28;01mif\u001b[39;00m num2 > maior:\n\u001b[32m      7\u001b[39m     maior = num2\n\u001b[32m----> \u001b[39m\u001b[32m8\u001b[39m \u001b[38;5;28;01mif\u001b[39;00m \u001b[43mnum3\u001b[49m > maior:\n\u001b[32m      9\u001b[39m    maior = num3\n\u001b[32m     10\u001b[39m \u001b[38;5;28mprint\u001b[39m(\u001b[33m\"\u001b[39m\u001b[33mO maior número é:\u001b[39m\u001b[33m\"\u001b[39m, maior)\n",
      "\u001b[31mNameError\u001b[39m: name 'num3' is not defined"
     ]
    }
   ],
   "source": [
    "# Obtendo o maior número entre três números\n",
    "num1 = int(input(\"Digite o primeiro número:\"))\n",
    "num2 = int(input(\"Digite o segundo número:\"))\n",
    "num2 = int(input(\"Digite o terceiro número:\"))\n",
    "maior = num1\n",
    "if num2 > maior:\n",
    "    maior = num2\n",
    "if num3 > maior:\n",
    "   maior = num3\n",
    "print(\"O maior número é:\", maior)\n",
    "\n"
   ]
  },
  {
   "cell_type": "markdown",
   "metadata": {},
   "source": [
    "# Uso do if com strings\n",
    "nome = input(\"Digite seu nome: \")\n",
    "nome2= input(\"Digite outro nome: \")\n",
    "if nome > nome2:\n",
    "    print(nome, \"é maior que\", nome2)\n",
    "else:\n",
    "    print(nome2, \"é maior que ou igual a\", nome)"
   ]
  },
  {
   "cell_type": "markdown",
   "metadata": {},
   "source": [
    "# Lab 3-1-10\n",
    "Operadores de comparação e execução condicional\n",
    "Cenário\n",
    "Spathiphyllum, mais conhecido como um lírio da paz ou planta de vela branca, é um dos mais populares plantas de interior que filtra as toxinas nocivas do ar. Alguns dos efeitos tóxicos que ele neutraliza incluem o benzeno, o formaldeído e a amônia.\n",
    "\n",
    "Imagine que seu programa de computador adora essas fábricas. Sempre que recebe uma entrada na forma da palavra Spathiphyllum, involuntariamente grita para o console a seguinte string: \"Spathiphyllum é a melhor fábrica de todos os tempos!\"\n",
    "\n",
    "Escreva um programa que utilize o conceito de execução condicional, use uma string como entrada e:\n",
    "\n",
    "imprime a frase \"Sim - Spathiphyllum é a melhor\n",
    " fábrica de todos os tempos!\" para a tela se a sequência inserida for \"Spathiphyllum\" (maiúscula)\n",
    "imprime \"Não, eu quero um grande Spathiphyllum!\" se a sequência inserida for \"spathiphyllum\" (letra minúscula)\n",
    "imprime \"Spathiphyllum! Not[input]!\", Caso contrário. Nota: [input] é a string usada como entrada.\n",
    "Teste seu código usando os dados que fornecemos para você. E compre um Spathiphyllum também!\n"
   ]
  },
  {
   "attachments": {
    "image.png": {
     "image/png": "[encoded data removed]"
    }
   },
   "cell_type": "markdown",
   "metadata": {},
   "source": [
    "![image.png](attachment:image.png)"
   ]
  },
  {
   "cell_type": "code",
   "execution_count": 6,
   "metadata": {},
   "outputs": [
    {
     "ename": "NameError",
     "evalue": "name 'lírio' is not defined",
     "output_type": "error",
     "traceback": [
      "\u001b[31m---------------------------------------------------------------------------\u001b[39m",
      "\u001b[31mNameError\u001b[39m                                 Traceback (most recent call last)",
      "\u001b[36mCell\u001b[39m\u001b[36m \u001b[39m\u001b[32mIn[6]\u001b[39m\u001b[32m, line 3\u001b[39m\n\u001b[32m      1\u001b[39m name = \u001b[38;5;28minput\u001b[39m(\u001b[33m\"\u001b[39m\u001b[33mlírio: \u001b[39m\u001b[33m\"\u001b[39m)\n\u001b[32m----> \u001b[39m\u001b[32m3\u001b[39m \u001b[38;5;28;01mif\u001b[39;00m \u001b[43mlírio\u001b[49m == \u001b[33m\"\u001b[39m\u001b[33mSpathiphyllum\u001b[39m\u001b[33m\"\u001b[39m:\n\u001b[32m      4\u001b[39m     \u001b[38;5;28mprint\u001b[39m(\u001b[33m\"\u001b[39m\u001b[33mSim - Spathiphyllum é a melhor planta de todas!\u001b[39m\u001b[33m\"\u001b[39m)\n\u001b[32m      5\u001b[39m \u001b[38;5;28;01melif\u001b[39;00m lírio == \u001b[33m\"\u001b[39m\u001b[33mspathiphyllum\u001b[39m\u001b[33m\"\u001b[39m:\n",
      "\u001b[31mNameError\u001b[39m: name 'lírio' is not defined"
     ]
    }
   ],
   "source": [
    "name = input(\"lírio: \")\n",
    "\n",
    "if lírio == \"Spathiphyllum\":\n",
    "    print(\"Sim - Spathiphyllum é a melhor planta de todas!\")\n",
    "elif lírio == \"spathiphyllum\":\n",
    "    print(\"Não, eu quero uma grande Spathiphyllum!\")\n",
    "else: \n",
    "    print(\"Spathiphyllum! Não \", lírio+ \"!\")"
   ]
  },
  {
   "cell_type": "markdown",
   "metadata": {},
   "source": [
    "# Lab 3-1-11\n",
    "Essenciais da declaração if-else\n",
    "Cenário\n",
    "Era uma vez uma terra - uma terra de leite e mel, habitada por pessoas felizes e prósperas. As pessoas pagavam impostos, é claro - a felicidade tinha limites. O imposto mais importante, chamado de imposto de renda pessoal (PIT) tinha que ser pago uma vez por ano e foi avaliado usando a seguinte regra:\n",
    "\n",
    "(se a renda do cidadão não era superior a 85.528 talões), (o imposto era igual a 18% da renda, menos 556 taller e 2 centavos (isso era o que eles chamavam de isenção de imposto))\n",
    "se a receita fosse superior a esse valor, o imposto seria (igual a 14.839 talões e 2 centavos, mais 32% do excedente em mais de 85.528 taller).\n",
    "Sua tarefa é escrever uma calculadora de impostos.\n",
    "\n",
    "Ela deve aceitar um valor de ponto flutuante: a receita.\n",
    "Em seguida, ele deve imprimir o imposto calculado, arredondado para inteiro. Há uma função chamada round() que fará o arredondamento para você - você a encontrará no código do esqueleto no editor.\n",
    "Nota: esse país feliz nunca devolveu dinheiro para seus cidadãos. Se o imposto calculado for menor que zero, isso significaria apenas nenhum imposto (o imposto foi igual a zero). Leve isso em consideração durante os cálculos.\n",
    "\n",
    "Observe o código no editor: ele só lê um valor de entrada e gera um resultado, então você precisa concluí-lo com alguns cálculos inteligentes.\n",
    "\n",
    "income = float(input(\"Entre com os rendimentos \"))\n",
    "\n",
    "if income < 85528:\n",
    "tax = income * 0.18 - 556.02\n",
    "# Escrever o resto do código aqui.\n",
    "tax = round(tax, 0)\n",
    "\n"
   ]
  },
  {
   "cell_type": "code",
   "execution_count": 10,
   "metadata": {},
   "outputs": [
    {
     "name": "stdout",
     "output_type": "stream",
     "text": [
      "8444\n"
     ]
    }
   ],
   "source": [
    "income = float(input(\"Entre com os rendimentos: \"))\n",
    "if income < 85528:\n",
    "    tax = income * 0.18 - 556.02\n",
    "else:\n",
    "    tax = 14839.2 + (income - 85528) * 0.32\n",
    "\n",
    "# Se o imposto for negativo, definimos como zero\n",
    "if tax < 0:\n",
    "    tax = 0\n",
    "\n",
    "tax = round(tax, 0)  # Arredonda para o inteiro mais próximo\n",
    "\n",
    "print(int(tax))  # Exibe o imposto como um número inteiro"
   ]
  },
  {
   "cell_type": "markdown",
   "metadata": {},
   "source": [
    "\n",
    "# 3.1.12  LAB Essenciais da declaração if-elif-else\n",
    "Cenário\n",
    "Como você certamente sabe, devido a algumas razões astronômicas, os anos podem ser bissextos ou comuns. Os primeiros têm 366 dias, enquanto os segundos têm 365 dias.\n",
    "\n",
    "Desde a introdução do calendário gregoriano (em 1582), a regra a seguir é usada para determinar o tipo de ano:\n",
    "\n",
    "se o número do ano não é divisível por quatro, é um ano comum;\n",
    "caso contrário, se o número do ano não for divisível por 100, será um ano bissexto;\n",
    "caso contrário, se o número do ano não for divisível por 400, é um ano comum ;\n",
    "caso contrário, é um ano bissexto .\n",
    "Observe o código no editor: ele só lê o número de um ano e precisa ser concluído com as instruções de implementação do teste que acabamos de descrever.\n",
    "\n",
    "\n",
    "O código deve gerar uma das duas mensagens possíveis, que são ano bissexto ou ano comum, dependendo do valor inserido.\n",
    "\n",
    "Seria bom verificar se o ano inserido cai na era gregoriana e emitir um aviso caso contrário: não está dentro do período do calendário gregoriano. Dica: use os operadores != E %."
   ]
  },
  {
   "cell_type": "code",
   "execution_count": 17,
   "metadata": {},
   "outputs": [
    {
     "name": "stdout",
     "output_type": "stream",
     "text": [
      "Ano bissexto\n"
     ]
    }
   ],
   "source": [
    "year = int(input(\"2000: \"))\n",
    "\n",
    "if year < 1582:\n",
    " print(\"Não dentro do período do calendário gregoriano\")\n",
    "else:\n",
    "   if year % 4 != 0:\n",
    "     print(\"ano comum\")\n",
    "   elif year % 100 != 0:\n",
    "     print(\"Ano bissexto\")\n",
    "   elif year % 400 != 0:\n",
    "     print(\"ano comum\")\n",
    "   else:\n",
    "     print(\"Ano bissexto\") "
   ]
  },
  {
   "cell_type": "markdown",
   "metadata": {},
   "source": [
    "# Multipla Atribuição...\n",
    "a, b, c, = 1,2 ,2, 3\n",
    "# valores de a = 5 , b = 6, faça uma permuta com as variáveis \n",
    "a = 5\n",
    "b = 6\n",
    "# Efetuando a troca\n",
    "apoio = a\n",
    "a = b\n",
    "b = apoio\n",
    "# efetuando a permuta no python\n",
    "a, b = b, a"
   ]
  }
 ],
 "metadata": {
  "kernelspec": {
   "display_name": ".venv",
   "language": "python",
   "name": "python3"
  },
  "language_info": {
   "codemirror_mode": {
    "name": "ipython",
    "version": 3
   },
   "file_extension": ".py",
   "mimetype": "text/x-python",
   "name": "python",
   "nbconvert_exporter": "python",
   "pygments_lexer": "ipython3",
   "version": "3.13.2"
  }
 },
 "nbformat": 4,
 "nbformat_minor": 2
}
