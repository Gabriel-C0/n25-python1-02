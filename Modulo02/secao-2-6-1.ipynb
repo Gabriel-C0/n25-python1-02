{
 "cells": [
  {
   "cell_type": "markdown",
   "metadata": {},
   "source": [
    "# Interação com o Usuário\n",
    "### função input()"
   ]
  },
  {
   "cell_type": "code",
   "execution_count": 20,
   "metadata": {},
   "outputs": [
    {
     "name": "stdout",
     "output_type": "stream",
     "text": [
      "Digite sua idade:\n",
      "Você tem 23 anos.\n"
     ]
    }
   ],
   "source": [
    "print(\"Digite sua idade:\")\n",
    "idade = input()\n",
    "print(\"Você tem \" + idade + \" anos.\")"
   ]
  },
  {
   "cell_type": "code",
   "execution_count": 21,
   "metadata": {},
   "outputs": [
    {
     "name": "stdout",
     "output_type": "stream",
     "text": [
      "Você tem 23 anos.\n",
      "<class 'str'>\n"
     ]
    }
   ],
   "source": [
    "idade = input(\"Digite sua idade:\") # passando a mensagem como argumento\n",
    "print(\"Você tem \" + idade + \" anos.\")\n",
    "print(type(idade)) # verificando o tipo da variável\n"
   ]
  },
  {
   "cell_type": "code",
   "execution_count": 22,
   "metadata": {},
   "outputs": [
    {
     "name": "stdout",
     "output_type": "stream",
     "text": [
      " Você nasceu em 2002.\n",
      " Você nasceu em2002.\n"
     ]
    }
   ],
   "source": [
    "# Isso não sera possível fazer\n",
    "idade = int(input(\"Digite sua idade: \")) # se não converter dá erro abaixo\n",
    "ano_nascimento = 2025 - idade # erro de tipo, idade é uma string e não \n",
    "print(\" Você nasceu em \" + str(ano_nascimento) + \".\") # convertendo o ano para string\n",
    "print(\" Você nasceu em\",ano_nascimento,\".\",sep=\"\") # usando argumentos do print e sep em espaço"
   ]
  },
  {
   "cell_type": "code",
   "execution_count": 23,
   "metadata": {},
   "outputs": [
    {
     "name": "stdout",
     "output_type": "stream",
     "text": [
      "A temperatura em Fahrenheit é: 73.4°F\n"
     ]
    }
   ],
   "source": [
    "# Desenvolver um programa para solicitar o valor de uma temperatura \n",
    "# em graus Celsius e convertê-la para graus Fahrenheit.\n",
    "# A Fórmula de conversão é:\n",
    "# F = C * 9/5 + 32\n",
    "celsius = float(input(\"Digite a temperatura em Celsius\"))\n",
    "fahrenheit = celsius * 9/5 + 32\n",
    "print(\"A temperatura em Fahrenheit é: \", fahrenheit, \"°F\", sep=\"\")"
   ]
  },
  {
   "cell_type": "markdown",
   "metadata": {},
   "source": [
    "# Laboratório 2-6-10 \n",
    "![alt text](ae5d9dec1dda05fda93912c1d7191ee42d10c8e5.png)"
   ]
  },
  {
   "cell_type": "code",
   "execution_count": 25,
   "metadata": {},
   "outputs": [
    {
     "name": "stdout",
     "output_type": "stream",
     "text": [
      "y = 0.6000000000000001\n"
     ]
    }
   ],
   "source": [
    "x = float(input( \"Digite o valor para x: \"))\n",
    "y = 1 / ( x + 1 / (x + 1 / (x + 1 / x ))) \n",
    "print(\"y =\", y)"
   ]
  },
  {
   "cell_type": "markdown",
   "metadata": {},
   "source": [
    "# Laboratório 2-6-11"
   ]
  },
  {
   "cell_type": "code",
   "execution_count": 31,
   "metadata": {},
   "outputs": [
    {
     "name": "stdout",
     "output_type": "stream",
     "text": [
      "13:16\n"
     ]
    }
   ],
   "source": [
    "hour = int(input(\"Hora de início (horas): \"))\n",
    "mins = int(input(\"Hora de início (minutos): \"))\n",
    "dura = int(input(\"Duração do evento (minutos): \"))\n",
    "# Escreva seu código aqui.\n",
    "tempo_total = hour * 60 + mins + dura\n",
    "hora_final = tempo_total // 60\n",
    "minuto_final = tempo_total % 60 \n",
    "# imprimir o resultado em horas e minutos\n",
    "print(hora_final , minuto_final, sep=\":\")\n",
    "\n"
   ]
  }
 ],
 "metadata": {
  "kernelspec": {
   "display_name": ".venv",
   "language": "python",
   "name": "python3"
  },
  "language_info": {
   "codemirror_mode": {
    "name": "ipython",
    "version": 3
   },
   "file_extension": ".py",
   "mimetype": "text/x-python",
   "name": "python",
   "nbconvert_exporter": "python",
   "pygments_lexer": "ipython3",
   "version": "3.13.2"
  }
 },
 "nbformat": 4,
 "nbformat_minor": 2
}
