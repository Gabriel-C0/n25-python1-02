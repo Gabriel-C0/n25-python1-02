{
 "cells": [
  {
   "cell_type": "markdown",
   "metadata": {},
   "source": [
    "# 4.7.1 - Exceções\n",
    "Tratamento de erros no Python"
   ]
  },
  {
   "cell_type": "code",
   "execution_count": null,
   "metadata": {},
   "outputs": [
    {
     "ename": "IndentationError",
     "evalue": "expected an indented block after 'if' statement on line 8 (1929016596.py, line 9)",
     "output_type": "error",
     "traceback": [
      "  \u001b[36mCell\u001b[39m\u001b[36m \u001b[39m\u001b[32mIn[3]\u001b[39m\u001b[32m, line 9\u001b[39m\n\u001b[31m    \u001b[39m\u001b[31mprint(\"Ocorreu um erro de conversão! Somente números! ou\")\u001b[39m\n    ^\n\u001b[31mIndentationError\u001b[39m\u001b[31m:\u001b[39m expected an indented block after 'if' statement on line 8\n"
     ]
    }
   ],
   "source": [
    "# Exemplo de erro de execução de código\n",
    "try:\n",
    "    valor = int(input(\"Digite um valor:\"))\n",
    "    print(\"O valor resultante será: \", 1/valor)\n",
    "    lista = [1,2,3]\n",
    "    print(lista[5])\n",
    "except (ValueError, ZeroDivisionError)as x:\n",
    "    if (type(x)==ValueError):\n",
    "    print(\"Ocorreu um erro de conversão! Somente números! ou\")\n",
    "    else:\n",
    "# except ZeroDivisionError:\n",
    "#   print(\"Ocorreu um erro de divisão por zero!\")\n",
    "except Exception as e:\n",
    "    print(\"Outro erro oocorreu!\", e)\n",
    "print(\"Fim do programa!\")\n"
   ]
  }
 ],
 "metadata": {
  "kernelspec": {
   "display_name": ".venv",
   "language": "python",
   "name": "python3"
  },
  "language_info": {
   "codemirror_mode": {
    "name": "ipython",
    "version": 3
   },
   "file_extension": ".py",
   "mimetype": "text/x-python",
   "name": "python",
   "nbconvert_exporter": "python",
   "pygments_lexer": "ipython3",
   "version": "3.13.2"
  }
 },
 "nbformat": 4,
 "nbformat_minor": 2
}
